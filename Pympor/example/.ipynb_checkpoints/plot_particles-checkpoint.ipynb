{
 "cells": [
  {
   "cell_type": "markdown",
   "metadata": {},
   "source": [
    "# Example that show how to use Pympor to optain the position, the velocity of the particles from a PoR output                    \n",
    "\n",
    "*Fev. 2019 by Guillaume THOMAS guillaume.thomas@astro.unistra.fr*\n",
    "\n",
    "Copyright (c) 2019 National Research Concil of Canada. All rights reserved. "
   ]
  },
  {
   "cell_type": "markdown",
   "metadata": {},
   "source": [
    "## Import package needed to run the code"
   ]
  },
  {
   "cell_type": "code",
   "execution_count": null,
   "metadata": {},
   "outputs": [],
   "source": [
    "# import package needed to run the code\n",
    "import numpy as np\n",
    "from StringIO import StringIO\n",
    "import math\n",
    "import Pympor\n",
    "from mpl_toolkits.mplot3d import Axes3D\n",
    "from mpl_toolkits.axes_grid1 import AxesGrid\n",
    "import matplotlib.pyplot as plt\n",
    "import random\n",
    "import os\n",
    "\n",
    "os.chdir(\"./example\") # Go to the repository example"
   ]
  },
  {
   "cell_type": "markdown",
   "metadata": {},
   "source": [
    "## Read the output n°i\n",
    "In this example it is i=2"
   ]
  },
  {
   "cell_type": "code",
   "execution_count": null,
   "metadata": {},
   "outputs": [],
   "source": [
    "i=2 # Number of the output to read\n",
    "\n",
    "[data,time]=Pympor.chargement_part(i) # Particles loading "
   ]
  },
  {
   "cell_type": "markdown",
   "metadata": {},
   "source": [
    "# Plot the particles position"
   ]
  },
  {
   "cell_type": "code",
   "execution_count": null,
   "metadata": {},
   "outputs": [],
   "source": [
    "title=\"time = %.2f Gyr\" %(time/1000.0)\n",
    "fig, (axes1, axes2) = plt.subplots(1, 2, figsize=(16,8))\n",
    "plt.title(title, fontweight='semibold', fontsize=14)\n",
    "\n",
    "axes1.set_xlabel('x (kpc)')\n",
    "axes1.set_ylabel('z (kpc)')\n",
    "axes1.annotate('Plan XZ', xy=(2, 1), xytext=(-95, 92))\n",
    "axes1.scatter(data[:,0],data[:,2],s=0.1,alpha=0.15,color=\"blue\")\t\n",
    "axes1.set_xlim(-100,100)\n",
    "axes1.set_ylim(-100,100)\n",
    "\n",
    "axes2.set_xlabel('x (kpc)')\n",
    "axes2.set_ylabel('y (kpc)')\n",
    "axes2.annotate('Plan XY', xy=(2, 1), xytext=(-95, 92))\n",
    "axes2.scatter(data[:,0],data[:,1],s=0.1,alpha=0.15,color=\"blue\")\n",
    "axes2.set_xlim(-100,100)\n",
    "axes2.set_ylim(-100,100)\n",
    "\n",
    "fig.tight_layout()\n",
    "plt.show()\n",
    "plt.close()"
   ]
  },
  {
   "cell_type": "code",
   "execution_count": null,
   "metadata": {},
   "outputs": [],
   "source": []
  }
 ],
 "metadata": {
  "kernelspec": {
   "display_name": "Python 2",
   "language": "python",
   "name": "python2"
  },
  "language_info": {
   "codemirror_mode": {
    "name": "ipython",
    "version": 2
   },
   "file_extension": ".py",
   "mimetype": "text/x-python",
   "name": "python",
   "nbconvert_exporter": "python",
   "pygments_lexer": "ipython2",
   "version": "2.7.13"
  }
 },
 "nbformat": 4,
 "nbformat_minor": 2
}
